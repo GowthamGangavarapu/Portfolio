{
 "cells": [
  {
   "cell_type": "markdown",
   "id": "692ef1d9",
   "metadata": {},
   "source": [
    "# Patterns"
   ]
  },
  {
   "cell_type": "markdown",
   "id": "9d9fe2b3",
   "metadata": {},
   "source": [
    "<div class='patterns', style ='font-size:30px'>\n",
    "   * <br>\n",
    "   * * <br>\n",
    "   * * * <br>\n",
    "   * * * * <br>\n",
    "   * * * * * <br>\n",
    "</div>"
   ]
  },
  {
   "cell_type": "code",
   "execution_count": 37,
   "id": "3660a57e",
   "metadata": {},
   "outputs": [
    {
     "name": "stdout",
     "output_type": "stream",
     "text": [
      "* \n",
      "* \n",
      "* * \n",
      "* \n",
      "* * \n",
      "* * * \n",
      "* \n",
      "* * \n",
      "* * * \n",
      "* * * * \n"
     ]
    }
   ],
   "source": [
    "rows = columns = 5\n",
    "\n",
    "for row in range(1, rows+1):\n",
    "    for col in range(1, row):\n",
    "        print('* '*col)"
   ]
  },
  {
   "cell_type": "code",
   "execution_count": null,
   "id": "42f3d129",
   "metadata": {},
   "outputs": [],
   "source": []
  }
 ],
 "metadata": {
  "kernelspec": {
   "display_name": "Python (virtEnv)",
   "language": "python",
   "name": "virtenv"
  },
  "language_info": {
   "codemirror_mode": {
    "name": "ipython",
    "version": 3
   },
   "file_extension": ".py",
   "mimetype": "text/x-python",
   "name": "python",
   "nbconvert_exporter": "python",
   "pygments_lexer": "ipython3",
   "version": "3.9.19"
  }
 },
 "nbformat": 4,
 "nbformat_minor": 5
}
