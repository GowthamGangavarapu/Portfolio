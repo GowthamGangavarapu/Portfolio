{
 "cells": [
  {
   "cell_type": "markdown",
   "id": "fe63b41c",
   "metadata": {},
   "source": [
    "# Data Structures and Algorithms "
   ]
  },
  {
   "cell_type": "markdown",
   "id": "69d3676c",
   "metadata": {},
   "source": [
    "<div class=\"alert alert-info\" role=\"alert\">\n",
    "    <p><b>Data Structures:</b> The way to store Data and organise it so that it can be effeciently retrived and used.</p>\n",
    "    <p>\n",
    "    There are two types of <ins>Data Structures</ins> in python,<br>\n",
    "            1. Built in <br>\n",
    "            2. User Defined  \n",
    "     </p>\n",
    "        <table>\n",
    "            <tr>\n",
    "                <th>Built-in</th>\n",
    "                <th>User-Defined</th>\n",
    "            </tr>\n",
    "            <tr>\n",
    "                <td>List</td>\n",
    "                <td>Stacks</td>\n",
    "            </tr>\n",
    "            <tr>\n",
    "                <td>Tuple</td>\n",
    "                <td>Queue</td>\n",
    "            </tr>\n",
    "             <tr>\n",
    "                <td>Set</td>\n",
    "                <td>Linked list</td>\n",
    "            </tr>\n",
    "             <tr>\n",
    "                <td>Dictionary</td>\n",
    "                <td>Graph</td>\n",
    "            </tr>\n",
    "            <tr>\n",
    "                <td></td>\n",
    "                <td>Tree</td>\n",
    "            </tr>\n",
    "    </table> \n",
    "</div>"
   ]
  },
  {
   "cell_type": "markdown",
   "id": "283d31fa",
   "metadata": {},
   "source": [
    "<div class = \"alert alert-block alert-warning\">\n",
    "    <b>List:</b> They are Ordered, Mutable and accessed using indexes and change values. It can contain any type of <b>data types</b>  and they can be nested lists.<br>\n",
    "    <b>Tuple:</b> They are Ordered, Immutable and can be accessed using indexes, however tuple cannot be appended or deleted  or changed once created <i>(Immutable)</i>. Tuples can also hold different data typesjust like lists. \n",
    "    <br>\n",
    "    <strong>Key usage of Tuple:</strong> Tuple is faster than list and sometimes we dont want tuple to be modified, for exmaple in sending data to database we send it using tuples. <br>\n",
    "     <ins>If the values in the collection are meant to be remained constant for the life of the program then using tuple guards the data.</ins>\n",
    "</div>"
   ]
  },
  {
   "cell_type": "code",
   "execution_count": 1,
   "id": "38242ba2",
   "metadata": {},
   "outputs": [
    {
     "name": "stdout",
     "output_type": "stream",
     "text": [
      "<class 'str'> <class 'float'>\n",
      "[1, 2] <class 'list'>\n"
     ]
    }
   ],
   "source": [
    "list1 = ['a',1,2.0]\n",
    "list2 = [[1,2],3,4,5]\n",
    "print(type(list1[0]),type(list1[2]))\n",
    "print(list2[0], type(list2[0]))"
   ]
  },
  {
   "cell_type": "code",
   "execution_count": 2,
   "id": "541e9f1b",
   "metadata": {},
   "outputs": [
    {
     "name": "stdout",
     "output_type": "stream",
     "text": [
      "<class 'tuple'> ()\n",
      "<class 'int'> 2\n",
      "<class 'tuple'> (2,)\n"
     ]
    }
   ],
   "source": [
    "tuple1 = tuple()\n",
    "print(type(tuple1), tuple1)\n",
    "\n",
    "tuple2 = (2)\n",
    "print(type(tuple2), tuple2)\n",
    "\n",
    "#For this parenthisis problem in order to make it tuple we put ',' after the element.\n",
    "tuple3 = (2,)\n",
    "print(type(tuple3), tuple3)"
   ]
  },
  {
   "cell_type": "markdown",
   "id": "2be94972",
   "metadata": {},
   "source": [
    "<div class = \"alert alert-block alert-warning\">\n",
    "    <b>Dictionary:</b> They are used to store data in key value pairs. They are unordered, mutable and accessed using keys. The keys should be unique and the keys are immutable, duplicaate keys will be removed. They are generally used in dataframes.<br>\n",
    "    <b>Set:</b> Set is a mutable collection of unique elements and you cannot have duplicate values. It can have any type of values and can take immutable values too. The items of a set are not subscriptable but you can use loops and 'in' keyword to check a value. \n",
    "</div>"
   ]
  },
  {
   "cell_type": "code",
   "execution_count": 3,
   "id": "3d4f2684",
   "metadata": {},
   "outputs": [
    {
     "name": "stdout",
     "output_type": "stream",
     "text": [
      "a\n"
     ]
    },
    {
     "data": {
      "text/plain": [
       "'a'"
      ]
     },
     "execution_count": 3,
     "metadata": {},
     "output_type": "execute_result"
    }
   ],
   "source": [
    "d = {(1,2):\"a\"}\n",
    "x = d.get((1,2))\n",
    "print(x)\n",
    "x = list(x)\n",
    "x[0]"
   ]
  },
  {
   "cell_type": "code",
   "execution_count": 4,
   "id": "08571a55",
   "metadata": {},
   "outputs": [
    {
     "name": "stdout",
     "output_type": "stream",
     "text": [
      "{'hello'}\n",
      "{'hello'}\n",
      "2\n",
      "hello\n"
     ]
    }
   ],
   "source": [
    "# Empty set\n",
    "set1 = set()\n",
    "set1.add(\"hello\")\n",
    "print(set1)\n",
    "set1.add(\"hello\")\n",
    "print(set1)\n",
    "set1.add(2)\n",
    "for i in set1:\n",
    "    print(i)"
   ]
  },
  {
   "cell_type": "markdown",
   "id": "2f7f2ced",
   "metadata": {},
   "source": [
    "## Stack : LIFO (last In First Out)"
   ]
  },
  {
   "cell_type": "markdown",
   "id": "c839e37e",
   "metadata": {},
   "source": [
    "**Important functions in stack**\n",
    "\n",
    "> * push <br>\n",
    "> * pop <br>\n",
    "> * peek or top <br>\n",
    "> * isEmpty <br>\n",
    "\n",
    "**Applications:** \n",
    "1) Word/ Text Editors: undo operation. <br>\n",
    "2) Browser back and forword operation <br>\n",
    "3) Towar of Hanoi <br>\n",
    "4) Expression evaluation/ conversion  <br>\n",
    "5) Reverse a String <br>\n",
    "\n",
    "<i> Stack can be implemented using lists and modules</i>"
   ]
  },
  {
   "cell_type": "markdown",
   "id": "8f31ed05",
   "metadata": {},
   "source": [
    "### Using List:"
   ]
  },
  {
   "cell_type": "code",
   "execution_count": 1,
   "id": "05aa5710",
   "metadata": {},
   "outputs": [],
   "source": [
    "class Stack:\n",
    "    def __init__(self, length, stack = None):\n",
    "        if stack is None:\n",
    "            stack = []\n",
    "        self.stack = stack\n",
    "        self.length = length\n",
    "    \n",
    "    def isEmpty(self):\n",
    "        if not self.stack:\n",
    "            return True\n",
    "    def size(self):\n",
    "        if self.isEmpty():\n",
    "            return 0\n",
    "        else:\n",
    "            return len(self.stack)\n",
    "        \n",
    "    def push(self, obj):\n",
    "        if len(self.stack)==self.length:\n",
    "            return \"stack is full\"\n",
    "        else:\n",
    "            self.stack.append(obj)\n",
    "            return self.stack\n",
    "    \n",
    "    def pop(self):\n",
    "        if not stack:\n",
    "            return \"Stack is empty\"\n",
    "        else:\n",
    "            return stack.pop()\n",
    "    def peek(self):\n",
    "        if self.isEmpty():\n",
    "            return \"stack is empty\"\n",
    "        else:\n",
    "            return self.stack[-1]"
   ]
  },
  {
   "cell_type": "code",
   "execution_count": null,
   "id": "0b777f98",
   "metadata": {},
   "outputs": [],
   "source": [
    "stack = Stack(4)\n",
    "\n",
    "stack.push(1)\n",
    "stack.push(2)\n",
    "stack.push(3)\n",
    "stack.push(4)\n",
    "stack.stack\n",
    "stack.pop()"
   ]
  },
  {
   "cell_type": "code",
   "execution_count": null,
   "id": "6b80128b",
   "metadata": {},
   "outputs": [],
   "source": []
  }
 ],
 "metadata": {
  "kernelspec": {
   "display_name": "Python 3 (ipykernel)",
   "language": "python",
   "name": "python3"
  },
  "language_info": {
   "codemirror_mode": {
    "name": "ipython",
    "version": 3
   },
   "file_extension": ".py",
   "mimetype": "text/x-python",
   "name": "python",
   "nbconvert_exporter": "python",
   "pygments_lexer": "ipython3",
   "version": "3.9.19"
  }
 },
 "nbformat": 4,
 "nbformat_minor": 5
}
